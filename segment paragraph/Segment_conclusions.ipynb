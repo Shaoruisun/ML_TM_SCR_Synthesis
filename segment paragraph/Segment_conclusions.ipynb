{
 "cells": [
  {
   "cell_type": "code",
   "execution_count": null,
   "id": "535780aa",
   "metadata": {},
   "outputs": [],
   "source": []
  },
  {
   "cell_type": "code",
   "execution_count": 1,
   "id": "ce15335e",
   "metadata": {
    "ExecuteTime": {
     "end_time": "2024-09-05T13:34:44.050492Z",
     "start_time": "2024-09-05T13:34:44.037299Z"
    }
   },
   "outputs": [],
   "source": [
    "import xml.etree.ElementTree as ET"
   ]
  },
  {
   "cell_type": "code",
   "execution_count": 4,
   "id": "98381a3f",
   "metadata": {
    "ExecuteTime": {
     "end_time": "2024-09-05T13:44:39.830810Z",
     "start_time": "2024-09-05T13:44:33.373311Z"
    }
   },
   "outputs": [],
   "source": [
    "import os\n",
    "import xml.etree.ElementTree as ET\n",
    "\n",
    "def get_all_text(element):\n",
    "    \"\"\"\n",
    "    递归获取元素及其所有子元素的文本内容。\n",
    "    \"\"\"\n",
    "    text = ''\n",
    "    if element.text:\n",
    "        text += element.text\n",
    "    for child in element:\n",
    "        text += get_all_text(child)\n",
    "        if child.tail:\n",
    "            text += child.tail\n",
    "    return text\n",
    "\n",
    "def extract_abstracts_to_txt(folder_path, output_folder):\n",
    "    # 定义命名空间\n",
    "    ns = {'ce': 'http://www.elsevier.com/xml/common/dtd'}\n",
    "\n",
    "    for filename in os.listdir(folder_path):\n",
    "        if filename.endswith('.xml'):\n",
    "            file_path = os.path.join(folder_path, filename)\n",
    "            tree = ET.parse(file_path)\n",
    "            root = tree.getroot()\n",
    "\n",
    "            for abstract in root.findall('.//ce:conclusions-sec', ns):\n",
    "                if abstract is not None:\n",
    "                    abstract_text = get_all_text(abstract)\n",
    "                    # 创建新的TXT文件\n",
    "                    output_filename = os.path.splitext(filename)[0] + '.txt'\n",
    "                    output_file_path = os.path.join(output_folder, output_filename)\n",
    "\n",
    "                    with open(output_file_path, 'w', encoding='utf-8') as file:\n",
    "                        file.write(abstract_text)\n",
    "\n",
    "\n",
    "folder_path = './xml_2305'\n",
    "output_folder = './conclusion_2305'\n",
    "extract_abstracts_to_txt(folder_path, output_folder)\n"
   ]
  },
  {
   "cell_type": "code",
   "execution_count": null,
   "id": "a710e2e7",
   "metadata": {},
   "outputs": [],
   "source": []
  },
  {
   "cell_type": "code",
   "execution_count": null,
   "id": "f9beefda",
   "metadata": {},
   "outputs": [],
   "source": []
  }
 ],
 "metadata": {
  "kernelspec": {
   "display_name": "Python [conda env:lsy] *",
   "language": "python",
   "name": "conda-env-lsy-py"
  },
  "language_info": {
   "codemirror_mode": {
    "name": "ipython",
    "version": 3
   },
   "file_extension": ".py",
   "mimetype": "text/x-python",
   "name": "python",
   "nbconvert_exporter": "python",
   "pygments_lexer": "ipython3",
   "version": "3.9.13"
  },
  "toc": {
   "base_numbering": 1,
   "nav_menu": {},
   "number_sections": true,
   "sideBar": true,
   "skip_h1_title": false,
   "title_cell": "Table of Contents",
   "title_sidebar": "Contents",
   "toc_cell": false,
   "toc_position": {},
   "toc_section_display": true,
   "toc_window_display": false
  }
 },
 "nbformat": 4,
 "nbformat_minor": 5
}
