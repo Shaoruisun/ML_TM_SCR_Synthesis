{
 "cells": [
  {
   "cell_type": "code",
   "execution_count": 1,
   "id": "706a72446999d449",
   "metadata": {
    "ExecuteTime": {
     "end_time": "2024-12-17T09:39:03.231304Z",
     "start_time": "2024-12-17T09:39:02.535737Z"
    },
    "collapsed": false
   },
   "outputs": [
    {
     "name": "stdout",
     "output_type": "stream",
     "text": [
      "Cleaned data saved to cleaned_data.xlsx\n"
     ]
    }
   ],
   "source": [
    "import pandas as pd\n",
    "import re\n",
    "\n",
    "# Load the Excel file\n",
    "file_path = \"\"  # Replace with the actual file path\n",
    "df = pd.read_excel(file_path)\n",
    "\n",
    "def convert_temperature(temp):\n",
    "    \"\"\"Convert temperature values to Kelvin (K).\"\"\"\n",
    "    if pd.isnull(temp) or \"None\" in str(temp) or \"no value\" in str(temp).lower():\n",
    "        return None\n",
    "    try:\n",
    "        # Extract all numerical values\n",
    "        numbers = re.findall(r'\\d+', temp)\n",
    "        unit = 'K' if 'K' in temp else 'C'\n",
    "\n",
    "        # Convert to Kelvin\n",
    "        if unit == 'C':\n",
    "            converted = [int(num) + 273.15 for num in numbers]\n",
    "        else:\n",
    "            converted = [int(num) for num in numbers]\n",
    "\n",
    "        # Join converted range\n",
    "        return f\"{converted[0]} - {converted[-1]} K\" if len(converted) > 1 else f\"{converted[0]} K\"\n",
    "    except:\n",
    "        return None\n",
    "\n",
    "def clean_ghsv(ghsv):\n",
    "    \"\"\"Extract and standardize GHSV to h-1.\"\"\"\n",
    "    if pd.isnull(ghsv) or \"No values\" in str(ghsv):\n",
    "        return None\n",
    "    try:\n",
    "        # Extract numerical values and convert to a consistent format\n",
    "        numbers = re.findall(r'[\\d,]+', ghsv)\n",
    "        value = int(numbers[0].replace(',', ''))  # Remove commas\n",
    "        return f\"{value} h-1\"\n",
    "    except:\n",
    "        return None\n",
    "\n",
    "# Apply functions to 'temperature' and 'GHSV' columns\n",
    "df['temperature'] = df['temperature'].apply(convert_temperature)\n",
    "df['GHSV'] = df['GHSV'].apply(clean_ghsv)\n",
    "\n",
    "# Save the cleaned data to a new Excel file\n",
    "output_path = \"cleaned_data.xlsx\"\n",
    "df.to_excel(output_path, index=False)\n",
    "\n",
    "print(f\"Cleaned data saved to {output_path}\")\n"
   ]
  },
  {
   "cell_type": "code",
   "execution_count": 4,
   "id": "36153a9e093cbcc3",
   "metadata": {
    "ExecuteTime": {
     "end_time": "2024-12-17T09:47:59.855410Z",
     "start_time": "2024-12-17T09:47:59.766220Z"
    },
    "collapsed": false
   },
   "outputs": [
    {
     "name": "stdout",
     "output_type": "stream",
     "text": [
      "Cleaned data saved to cleaned_data.xlsx\n"
     ]
    }
   ],
   "source": [
    "import pandas as pd\n",
    "import re\n",
    "\n",
    "# Load the Excel file\n",
    "file_path = \"整理condition.xlsx\"  # Replace with the actual file path\n",
    "df = pd.read_excel(file_path)\n",
    "\n",
    "def convert_temperature(temp):\n",
    "    \"\"\"Convert temperature values to Kelvin (K) and compute mean for ranges.\"\"\"\n",
    "    if pd.isnull(temp) or \"None\" in str(temp) or \"no value\" in str(temp).lower():\n",
    "        return temp  # Return original data\n",
    "    \n",
    "    try:\n",
    "        # Handle 'room temperature' or 'ambient'\n",
    "        if \"room temperature\" in str(temp).lower() or \"ambient\" in str(temp).lower():\n",
    "            return \"298 K\"\n",
    "        \n",
    "        # Extract numerical values\n",
    "        numbers = re.findall(r'\\d+', temp)\n",
    "        unit = 'K' if 'K' in temp else 'C'\n",
    "\n",
    "        # Convert numbers to Kelvin\n",
    "        kelvin_values = []\n",
    "        for num in numbers:\n",
    "            if unit == 'C':\n",
    "                kelvin_values.append(int(num) + 273.15)\n",
    "            else:\n",
    "                kelvin_values.append(int(num))\n",
    "        \n",
    "        # Calculate mean for range\n",
    "        if len(kelvin_values) > 1:  # If it's a range\n",
    "            avg_temp = sum(kelvin_values) / len(kelvin_values)\n",
    "            return f\"{round(avg_temp)} K\"\n",
    "        else:  # Single value\n",
    "            return f\"{round(kelvin_values[0])} K\"\n",
    "    except:\n",
    "        return temp  # Return original if any error occurs\n",
    "\n",
    "def clean_ghsv(ghsv):\n",
    "    \"\"\"Extract and standardize GHSV to h-1.\"\"\"\n",
    "    if pd.isnull(ghsv) or \"No values\" in str(ghsv):\n",
    "        return ghsv  # Return original data\n",
    "    \n",
    "    try:\n",
    "        # Extract numerical values and clean up commas\n",
    "        numbers = re.findall(r'[\\d,]+', ghsv)\n",
    "        value = int(numbers[0].replace(',', ''))  # Remove commas\n",
    "        return f\"{value} h-1\"\n",
    "    except:\n",
    "        return ghsv  # Return original if any error occurs\n",
    "\n",
    "# Apply functions to 'temperature' and 'GHSV' columns\n",
    "df['temperature'] = df['temperature'].apply(convert_temperature)\n",
    "df['GHSV'] = df['GHSV'].apply(clean_ghsv)\n",
    "\n",
    "# Save the cleaned data to a new Excel file\n",
    "output_path = \"cleaned_data.xlsx\"\n",
    "df.to_excel(output_path, index=False)\n",
    "\n",
    "print(f\"Cleaned data saved to {output_path}\")\n"
   ]
  },
  {
   "cell_type": "code",
   "execution_count": null,
   "id": "ea62431d100bde93",
   "metadata": {
    "collapsed": false
   },
   "outputs": [],
   "source": []
  },
  {
   "cell_type": "code",
   "execution_count": null,
   "id": "d925d9003970d407",
   "metadata": {
    "collapsed": false
   },
   "outputs": [],
   "source": []
  }
 ],
 "metadata": {
  "kernelspec": {
   "display_name": "Python 3",
   "language": "python",
   "name": "python3"
  },
  "language_info": {
   "codemirror_mode": {
    "name": "ipython",
    "version": 2
   },
   "file_extension": ".py",
   "mimetype": "text/x-python",
   "name": "python",
   "nbconvert_exporter": "python",
   "pygments_lexer": "ipython2",
   "version": "2.7.6"
  }
 },
 "nbformat": 4,
 "nbformat_minor": 5
}
